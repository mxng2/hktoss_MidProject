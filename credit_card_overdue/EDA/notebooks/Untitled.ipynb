{
 "cells": [
  {
   "cell_type": "code",
   "execution_count": 12,
   "id": "5d93beec-3c12-4997-abbc-919e18dcacdc",
   "metadata": {},
   "outputs": [],
   "source": [
    "DATA_PATH = '../../data/modified/tmdwnsdkrhtodgo.csv'"
   ]
  },
  {
   "cell_type": "code",
   "execution_count": 13,
   "id": "eec0291c-e981-4570-8728-7cdf43c8ebbb",
   "metadata": {},
   "outputs": [],
   "source": [
    "import pandas as pd\n",
    "\n",
    "df = pd.read_csv(DATA_PATH)"
   ]
  },
  {
   "cell_type": "code",
   "execution_count": 14,
   "id": "6413d83a-36d2-48ae-83fa-e53135a2d952",
   "metadata": {
    "scrolled": true
   },
   "outputs": [
    {
     "data": {
      "text/html": [
       "<div>\n",
       "<style scoped>\n",
       "    .dataframe tbody tr th:only-of-type {\n",
       "        vertical-align: middle;\n",
       "    }\n",
       "\n",
       "    .dataframe tbody tr th {\n",
       "        vertical-align: top;\n",
       "    }\n",
       "\n",
       "    .dataframe thead th {\n",
       "        text-align: right;\n",
       "    }\n",
       "</style>\n",
       "<table border=\"1\" class=\"dataframe\">\n",
       "  <thead>\n",
       "    <tr style=\"text-align: right;\">\n",
       "      <th></th>\n",
       "      <th>Unnamed: 0</th>\n",
       "      <th>Life_Stage</th>\n",
       "      <th>RP건수_B0M</th>\n",
       "      <th>RP건수_가스_B0M</th>\n",
       "      <th>RP건수_건강_B0M</th>\n",
       "      <th>RP건수_교통_B0M</th>\n",
       "      <th>RP건수_렌탈_B0M</th>\n",
       "      <th>RP건수_보험_B0M</th>\n",
       "      <th>RP건수_아파트_B0M</th>\n",
       "      <th>RP건수_유선방송_B0M</th>\n",
       "      <th>...</th>\n",
       "      <th>연령_40</th>\n",
       "      <th>연령_50</th>\n",
       "      <th>연령_60</th>\n",
       "      <th>연령_70</th>\n",
       "      <th>이용금액대</th>\n",
       "      <th>직장시도명</th>\n",
       "      <th>PC1</th>\n",
       "      <th>PC2</th>\n",
       "      <th>PC3</th>\n",
       "      <th>발급회원번호</th>\n",
       "    </tr>\n",
       "  </thead>\n",
       "  <tbody>\n",
       "    <tr>\n",
       "      <th>0</th>\n",
       "      <td>0</td>\n",
       "      <td>5</td>\n",
       "      <td>2</td>\n",
       "      <td>0</td>\n",
       "      <td>0</td>\n",
       "      <td>0</td>\n",
       "      <td>0</td>\n",
       "      <td>1</td>\n",
       "      <td>0</td>\n",
       "      <td>0</td>\n",
       "      <td>...</td>\n",
       "      <td>1</td>\n",
       "      <td>0</td>\n",
       "      <td>0</td>\n",
       "      <td>0</td>\n",
       "      <td>5</td>\n",
       "      <td>0</td>\n",
       "      <td>-3.010090</td>\n",
       "      <td>0.099855</td>\n",
       "      <td>-0.058170</td>\n",
       "      <td>0</td>\n",
       "    </tr>\n",
       "    <tr>\n",
       "      <th>1</th>\n",
       "      <td>1</td>\n",
       "      <td>4</td>\n",
       "      <td>0</td>\n",
       "      <td>0</td>\n",
       "      <td>0</td>\n",
       "      <td>0</td>\n",
       "      <td>0</td>\n",
       "      <td>0</td>\n",
       "      <td>0</td>\n",
       "      <td>0</td>\n",
       "      <td>...</td>\n",
       "      <td>0</td>\n",
       "      <td>0</td>\n",
       "      <td>0</td>\n",
       "      <td>0</td>\n",
       "      <td>3</td>\n",
       "      <td>1</td>\n",
       "      <td>-1.777381</td>\n",
       "      <td>-0.978568</td>\n",
       "      <td>-0.383604</td>\n",
       "      <td>1</td>\n",
       "    </tr>\n",
       "    <tr>\n",
       "      <th>2</th>\n",
       "      <td>2</td>\n",
       "      <td>4</td>\n",
       "      <td>0</td>\n",
       "      <td>0</td>\n",
       "      <td>0</td>\n",
       "      <td>0</td>\n",
       "      <td>0</td>\n",
       "      <td>0</td>\n",
       "      <td>0</td>\n",
       "      <td>0</td>\n",
       "      <td>...</td>\n",
       "      <td>1</td>\n",
       "      <td>0</td>\n",
       "      <td>0</td>\n",
       "      <td>0</td>\n",
       "      <td>2</td>\n",
       "      <td>5</td>\n",
       "      <td>-3.825666</td>\n",
       "      <td>0.729603</td>\n",
       "      <td>0.133052</td>\n",
       "      <td>2</td>\n",
       "    </tr>\n",
       "    <tr>\n",
       "      <th>3</th>\n",
       "      <td>3</td>\n",
       "      <td>4</td>\n",
       "      <td>0</td>\n",
       "      <td>0</td>\n",
       "      <td>0</td>\n",
       "      <td>0</td>\n",
       "      <td>0</td>\n",
       "      <td>0</td>\n",
       "      <td>0</td>\n",
       "      <td>0</td>\n",
       "      <td>...</td>\n",
       "      <td>1</td>\n",
       "      <td>0</td>\n",
       "      <td>0</td>\n",
       "      <td>0</td>\n",
       "      <td>1</td>\n",
       "      <td>5</td>\n",
       "      <td>-3.914116</td>\n",
       "      <td>0.804384</td>\n",
       "      <td>0.144837</td>\n",
       "      <td>3</td>\n",
       "    </tr>\n",
       "    <tr>\n",
       "      <th>4</th>\n",
       "      <td>4</td>\n",
       "      <td>5</td>\n",
       "      <td>1</td>\n",
       "      <td>0</td>\n",
       "      <td>0</td>\n",
       "      <td>0</td>\n",
       "      <td>0</td>\n",
       "      <td>0</td>\n",
       "      <td>0</td>\n",
       "      <td>0</td>\n",
       "      <td>...</td>\n",
       "      <td>0</td>\n",
       "      <td>1</td>\n",
       "      <td>0</td>\n",
       "      <td>0</td>\n",
       "      <td>1</td>\n",
       "      <td>13</td>\n",
       "      <td>-4.097461</td>\n",
       "      <td>0.945743</td>\n",
       "      <td>0.176977</td>\n",
       "      <td>7</td>\n",
       "    </tr>\n",
       "  </tbody>\n",
       "</table>\n",
       "<p>5 rows × 91 columns</p>\n",
       "</div>"
      ],
      "text/plain": [
       "   Unnamed: 0  Life_Stage  RP건수_B0M  RP건수_가스_B0M  RP건수_건강_B0M  RP건수_교통_B0M  \\\n",
       "0           0           5         2            0            0            0   \n",
       "1           1           4         0            0            0            0   \n",
       "2           2           4         0            0            0            0   \n",
       "3           3           4         0            0            0            0   \n",
       "4           4           5         1            0            0            0   \n",
       "\n",
       "   RP건수_렌탈_B0M  RP건수_보험_B0M  RP건수_아파트_B0M  RP건수_유선방송_B0M  ...  연령_40  연령_50  \\\n",
       "0            0            1             0              0  ...      1      0   \n",
       "1            0            0             0              0  ...      0      0   \n",
       "2            0            0             0              0  ...      1      0   \n",
       "3            0            0             0              0  ...      1      0   \n",
       "4            0            0             0              0  ...      0      1   \n",
       "\n",
       "   연령_60  연령_70  이용금액대  직장시도명       PC1       PC2       PC3  발급회원번호  \n",
       "0      0      0      5      0 -3.010090  0.099855 -0.058170       0  \n",
       "1      0      0      3      1 -1.777381 -0.978568 -0.383604       1  \n",
       "2      0      0      2      5 -3.825666  0.729603  0.133052       2  \n",
       "3      0      0      1      5 -3.914116  0.804384  0.144837       3  \n",
       "4      0      0      1     13 -4.097461  0.945743  0.176977       7  \n",
       "\n",
       "[5 rows x 91 columns]"
      ]
     },
     "execution_count": 14,
     "metadata": {},
     "output_type": "execute_result"
    }
   ],
   "source": [
    "df.head()"
   ]
  },
  {
   "cell_type": "code",
   "execution_count": 15,
   "id": "47b459a6-46bf-4650-a3d3-e7c66ca99313",
   "metadata": {},
   "outputs": [],
   "source": [
    "import pandas as pd\n",
    "\n",
    "df.drop('Unnamed: 0', axis=1, inplace=True)"
   ]
  },
  {
   "cell_type": "code",
   "execution_count": 22,
   "id": "f9dc75d1-dea4-43e7-8d91-b96381c6e07a",
   "metadata": {},
   "outputs": [
    {
     "data": {
      "text/plain": [
       "0    90\n",
       "Name: count, dtype: int64"
      ]
     },
     "execution_count": 22,
     "metadata": {},
     "output_type": "execute_result"
    }
   ],
   "source": [
    "df.isnull().sum().value_counts()"
   ]
  },
  {
   "cell_type": "code",
   "execution_count": 23,
   "id": "46d3abc9-10df-4fc6-8401-6994edddee7e",
   "metadata": {},
   "outputs": [
    {
     "data": {
      "text/html": [
       "<div>\n",
       "<style scoped>\n",
       "    .dataframe tbody tr th:only-of-type {\n",
       "        vertical-align: middle;\n",
       "    }\n",
       "\n",
       "    .dataframe tbody tr th {\n",
       "        vertical-align: top;\n",
       "    }\n",
       "\n",
       "    .dataframe thead th {\n",
       "        text-align: right;\n",
       "    }\n",
       "</style>\n",
       "<table border=\"1\" class=\"dataframe\">\n",
       "  <thead>\n",
       "    <tr style=\"text-align: right;\">\n",
       "      <th></th>\n",
       "      <th>기준년월</th>\n",
       "      <th>발급회원번호</th>\n",
       "      <th>잔액_B0M</th>\n",
       "      <th>잔액_일시불_B0M</th>\n",
       "      <th>잔액_할부_B0M</th>\n",
       "      <th>잔액_현금서비스_B0M</th>\n",
       "      <th>잔액_리볼빙일시불이월_B0M</th>\n",
       "      <th>잔액_리볼빙CA이월_B0M</th>\n",
       "      <th>잔액_카드론_B0M</th>\n",
       "      <th>월중평잔_일시불_B0M</th>\n",
       "      <th>...</th>\n",
       "      <th>평잔_6M</th>\n",
       "      <th>평잔_일시불_6M</th>\n",
       "      <th>평잔_일시불_해외_6M</th>\n",
       "      <th>평잔_RV일시불_6M</th>\n",
       "      <th>평잔_RV일시불_해외_6M</th>\n",
       "      <th>평잔_할부_6M</th>\n",
       "      <th>평잔_할부_해외_6M</th>\n",
       "      <th>평잔_CA_6M</th>\n",
       "      <th>평잔_CA_해외_6M</th>\n",
       "      <th>평잔_카드론_6M</th>\n",
       "    </tr>\n",
       "  </thead>\n",
       "  <tbody>\n",
       "    <tr>\n",
       "      <th>0</th>\n",
       "      <td>201807</td>\n",
       "      <td>SYN_0</td>\n",
       "      <td>2493245</td>\n",
       "      <td>99811</td>\n",
       "      <td>96281</td>\n",
       "      <td>2297153</td>\n",
       "      <td>0</td>\n",
       "      <td>0</td>\n",
       "      <td>0</td>\n",
       "      <td>108404</td>\n",
       "      <td>...</td>\n",
       "      <td>1598898</td>\n",
       "      <td>244003</td>\n",
       "      <td>0</td>\n",
       "      <td>0</td>\n",
       "      <td>0</td>\n",
       "      <td>57273</td>\n",
       "      <td>0</td>\n",
       "      <td>1700813</td>\n",
       "      <td>0</td>\n",
       "      <td>0</td>\n",
       "    </tr>\n",
       "    <tr>\n",
       "      <th>1</th>\n",
       "      <td>201807</td>\n",
       "      <td>SYN_1</td>\n",
       "      <td>495634</td>\n",
       "      <td>256579</td>\n",
       "      <td>239055</td>\n",
       "      <td>0</td>\n",
       "      <td>0</td>\n",
       "      <td>0</td>\n",
       "      <td>0</td>\n",
       "      <td>409061</td>\n",
       "      <td>...</td>\n",
       "      <td>704504</td>\n",
       "      <td>267764</td>\n",
       "      <td>0</td>\n",
       "      <td>283025</td>\n",
       "      <td>0</td>\n",
       "      <td>273649</td>\n",
       "      <td>0</td>\n",
       "      <td>0</td>\n",
       "      <td>0</td>\n",
       "      <td>0</td>\n",
       "    </tr>\n",
       "    <tr>\n",
       "      <th>2</th>\n",
       "      <td>201807</td>\n",
       "      <td>SYN_2</td>\n",
       "      <td>0</td>\n",
       "      <td>0</td>\n",
       "      <td>0</td>\n",
       "      <td>0</td>\n",
       "      <td>0</td>\n",
       "      <td>0</td>\n",
       "      <td>0</td>\n",
       "      <td>0</td>\n",
       "      <td>...</td>\n",
       "      <td>114846</td>\n",
       "      <td>120720</td>\n",
       "      <td>0</td>\n",
       "      <td>0</td>\n",
       "      <td>0</td>\n",
       "      <td>0</td>\n",
       "      <td>0</td>\n",
       "      <td>0</td>\n",
       "      <td>0</td>\n",
       "      <td>0</td>\n",
       "    </tr>\n",
       "    <tr>\n",
       "      <th>3</th>\n",
       "      <td>201807</td>\n",
       "      <td>SYN_3</td>\n",
       "      <td>25771</td>\n",
       "      <td>25771</td>\n",
       "      <td>0</td>\n",
       "      <td>0</td>\n",
       "      <td>0</td>\n",
       "      <td>0</td>\n",
       "      <td>0</td>\n",
       "      <td>19933</td>\n",
       "      <td>...</td>\n",
       "      <td>12345</td>\n",
       "      <td>11593</td>\n",
       "      <td>0</td>\n",
       "      <td>66245</td>\n",
       "      <td>0</td>\n",
       "      <td>0</td>\n",
       "      <td>0</td>\n",
       "      <td>0</td>\n",
       "      <td>0</td>\n",
       "      <td>0</td>\n",
       "    </tr>\n",
       "    <tr>\n",
       "      <th>4</th>\n",
       "      <td>201807</td>\n",
       "      <td>SYN_4</td>\n",
       "      <td>0</td>\n",
       "      <td>0</td>\n",
       "      <td>0</td>\n",
       "      <td>0</td>\n",
       "      <td>0</td>\n",
       "      <td>0</td>\n",
       "      <td>0</td>\n",
       "      <td>0</td>\n",
       "      <td>...</td>\n",
       "      <td>0</td>\n",
       "      <td>0</td>\n",
       "      <td>0</td>\n",
       "      <td>0</td>\n",
       "      <td>0</td>\n",
       "      <td>0</td>\n",
       "      <td>0</td>\n",
       "      <td>0</td>\n",
       "      <td>0</td>\n",
       "      <td>0</td>\n",
       "    </tr>\n",
       "  </tbody>\n",
       "</table>\n",
       "<p>5 rows × 83 columns</p>\n",
       "</div>"
      ],
      "text/plain": [
       "     기준년월 발급회원번호   잔액_B0M  잔액_일시불_B0M  잔액_할부_B0M  잔액_현금서비스_B0M  \\\n",
       "0  201807  SYN_0  2493245       99811      96281       2297153   \n",
       "1  201807  SYN_1   495634      256579     239055             0   \n",
       "2  201807  SYN_2        0           0          0             0   \n",
       "3  201807  SYN_3    25771       25771          0             0   \n",
       "4  201807  SYN_4        0           0          0             0   \n",
       "\n",
       "   잔액_리볼빙일시불이월_B0M  잔액_리볼빙CA이월_B0M  잔액_카드론_B0M  월중평잔_일시불_B0M  ...    평잔_6M  \\\n",
       "0                0               0           0        108404  ...  1598898   \n",
       "1                0               0           0        409061  ...   704504   \n",
       "2                0               0           0             0  ...   114846   \n",
       "3                0               0           0         19933  ...    12345   \n",
       "4                0               0           0             0  ...        0   \n",
       "\n",
       "   평잔_일시불_6M  평잔_일시불_해외_6M  평잔_RV일시불_6M  평잔_RV일시불_해외_6M  평잔_할부_6M  \\\n",
       "0     244003             0            0               0     57273   \n",
       "1     267764             0       283025               0    273649   \n",
       "2     120720             0            0               0         0   \n",
       "3      11593             0        66245               0         0   \n",
       "4          0             0            0               0         0   \n",
       "\n",
       "   평잔_할부_해외_6M  평잔_CA_6M  평잔_CA_해외_6M  평잔_카드론_6M  \n",
       "0            0   1700813            0          0  \n",
       "1            0         0            0          0  \n",
       "2            0         0            0          0  \n",
       "3            0         0            0          0  \n",
       "4            0         0            0          0  \n",
       "\n",
       "[5 rows x 83 columns]"
      ]
     },
     "execution_count": 23,
     "metadata": {},
     "output_type": "execute_result"
    }
   ],
   "source": [
    "df_bal = pd.read_csv('../../data/given/201807_잔액정보.csv')\n",
    "df_bal.head()"
   ]
  },
  {
   "cell_type": "code",
   "execution_count": 24,
   "id": "3b28a088-300f-4873-98f4-41c1e9278715",
   "metadata": {},
   "outputs": [
    {
     "data": {
      "text/html": [
       "<div>\n",
       "<style scoped>\n",
       "    .dataframe tbody tr th:only-of-type {\n",
       "        vertical-align: middle;\n",
       "    }\n",
       "\n",
       "    .dataframe tbody tr th {\n",
       "        vertical-align: top;\n",
       "    }\n",
       "\n",
       "    .dataframe thead th {\n",
       "        text-align: right;\n",
       "    }\n",
       "</style>\n",
       "<table border=\"1\" class=\"dataframe\">\n",
       "  <thead>\n",
       "    <tr style=\"text-align: right;\">\n",
       "      <th></th>\n",
       "      <th>발급회원번호</th>\n",
       "      <th>잔액_B0M</th>\n",
       "    </tr>\n",
       "  </thead>\n",
       "  <tbody>\n",
       "    <tr>\n",
       "      <th>0</th>\n",
       "      <td>SYN_0</td>\n",
       "      <td>2493245</td>\n",
       "    </tr>\n",
       "    <tr>\n",
       "      <th>1</th>\n",
       "      <td>SYN_1</td>\n",
       "      <td>495634</td>\n",
       "    </tr>\n",
       "    <tr>\n",
       "      <th>2</th>\n",
       "      <td>SYN_2</td>\n",
       "      <td>0</td>\n",
       "    </tr>\n",
       "    <tr>\n",
       "      <th>3</th>\n",
       "      <td>SYN_3</td>\n",
       "      <td>25771</td>\n",
       "    </tr>\n",
       "    <tr>\n",
       "      <th>4</th>\n",
       "      <td>SYN_4</td>\n",
       "      <td>0</td>\n",
       "    </tr>\n",
       "  </tbody>\n",
       "</table>\n",
       "</div>"
      ],
      "text/plain": [
       "  발급회원번호   잔액_B0M\n",
       "0  SYN_0  2493245\n",
       "1  SYN_1   495634\n",
       "2  SYN_2        0\n",
       "3  SYN_3    25771\n",
       "4  SYN_4        0"
      ]
     },
     "execution_count": 24,
     "metadata": {},
     "output_type": "execute_result"
    }
   ],
   "source": [
    "df_bal_filtered = df_bal[['발급회원번호', '잔액_B0M']]\n",
    "df_bal_filtered.head()"
   ]
  },
  {
   "cell_type": "code",
   "execution_count": 31,
   "id": "6beca004-281e-414d-a3bc-7bffe45ef5e3",
   "metadata": {},
   "outputs": [
    {
     "data": {
      "text/plain": [
       "0          2\n",
       "1          1\n",
       "2          0\n",
       "3          0\n",
       "4          1\n",
       "          ..\n",
       "2396314    1\n",
       "2396315    2\n",
       "2396316    2\n",
       "2396317    1\n",
       "2396318    0\n",
       "Name: 잔액_B0M, Length: 2396319, dtype: int64"
      ]
     },
     "execution_count": 31,
     "metadata": {},
     "output_type": "execute_result"
    }
   ],
   "source": [
    "import pandas as pd\n",
    "\n",
    "df_edited = pd.read_csv('../../data/modified/r_tmdwnsdkrhtodgo.csv')\n",
    "df_edited['잔액_B0M']"
   ]
  },
  {
   "cell_type": "code",
   "execution_count": 32,
   "id": "ac6e6565-99cb-4cb8-af55-d54382a766fc",
   "metadata": {},
   "outputs": [
    {
     "data": {
      "text/plain": [
       "Index(['Unnamed: 0', 'Life_Stage', 'RP건수_B0M', 'RP건수_가스_B0M', 'RP건수_건강_B0M',\n",
       "       'RP건수_교통_B0M', 'RP건수_렌탈_B0M', 'RP건수_보험_B0M', 'RP건수_아파트_B0M',\n",
       "       'RP건수_유선방송_B0M', 'RP건수_전기_B0M', 'RP건수_제휴사서비스직접판매_B0M', 'RP건수_통신_B0M',\n",
       "       'RP건수_학습비_B0M', 'RP유형건수_B0M', '_1순위교통업종_버스지하철', '_1순위교통업종_없음',\n",
       "       '_1순위교통업종_정비', '_1순위교통업종_주유', '_1순위교통업종_철도버스', '_1순위교통업종_택시',\n",
       "       '_1순위납부업종_가스/전기료', '_1순위납부업종_관리비', '_1순위납부업종_납부기타', '_1순위납부업종_보험료',\n",
       "       '_1순위납부업종_없음', '_1순위납부업종_통신비', '_1순위쇼핑업종_도소매', '_1순위쇼핑업종_마트',\n",
       "       '_1순위쇼핑업종_백화점', '_1순위쇼핑업종_쇼핑기타', '_1순위쇼핑업종_슈퍼마켓', '_1순위쇼핑업종_아울렛',\n",
       "       '_1순위쇼핑업종_없음', '_1순위쇼핑업종_온라인', '_1순위쇼핑업종_편의점', '_1순위업종_교육', '_1순위업종_교통',\n",
       "       '_1순위업종_납부', '_1순위업종_사교활동', '_1순위업종_쇼핑', '_1순위업종_여유생활', '_1순위업종_요식',\n",
       "       '_1순위업종_의료', '_1순위업종_일상생활', '_1순위업종_해외', '_2순위쇼핑업종_도소매', '_2순위쇼핑업종_마트',\n",
       "       '_2순위쇼핑업종_백화점', '_2순위쇼핑업종_쇼핑기타', '_2순위쇼핑업종_슈퍼마켓', '_2순위쇼핑업종_아울렛',\n",
       "       '_2순위쇼핑업종_없음', '_2순위쇼핑업종_온라인', '_2순위쇼핑업종_편의점', '_2순위업종_교육', '_2순위업종_교통',\n",
       "       '_2순위업종_납부', '_2순위업종_사교활동', '_2순위업종_쇼핑', '_2순위업종_없음', '_2순위업종_여유생활',\n",
       "       '_2순위업종_요식', '_2순위업종_의료', '_2순위업종_일상생활', '_2순위업종_해외', '_3순위업종_교육',\n",
       "       '_3순위업종_교통', '_3순위업종_납부', '_3순위업종_사교활동', '_3순위업종_쇼핑', '_3순위업종_없음',\n",
       "       '_3순위업종_여유생활', '_3순위업종_요식', '_3순위업종_의료', '_3순위업종_일상생활', '_3순위업종_해외',\n",
       "       '거주시도명', '남녀구분코드', '연령_20', '연령_30', '연령_40', '연령_50', '연령_60', '연령_70',\n",
       "       '이용금액대', '직장시도명', 'PC1', 'PC2', 'PC3', '발급회원번호', '잔액_B0M'],\n",
       "      dtype='object')"
      ]
     },
     "execution_count": 32,
     "metadata": {},
     "output_type": "execute_result"
    }
   ],
   "source": [
    "df_edited.columns"
   ]
  },
  {
   "cell_type": "code",
   "execution_count": 33,
   "id": "54553bad-50a6-4db4-9c66-da040cb0a3ed",
   "metadata": {},
   "outputs": [],
   "source": [
    "df_edited.drop(['Unnamed: 0', '발급회원번호'], axis=1, inplace=True)"
   ]
  },
  {
   "cell_type": "code",
   "execution_count": 34,
   "id": "bafcf28c-5b37-4232-aabc-d88910264549",
   "metadata": {},
   "outputs": [],
   "source": [
    "df_edited.rename(columns={'잔액_B0M' : 'target'}, inplace=True)"
   ]
  },
  {
   "cell_type": "code",
   "execution_count": 35,
   "id": "51bc60f0-aed7-4f06-835d-f5982e370788",
   "metadata": {},
   "outputs": [
    {
     "data": {
      "text/plain": [
       "Index(['Life_Stage', 'RP건수_B0M', 'RP건수_가스_B0M', 'RP건수_건강_B0M', 'RP건수_교통_B0M',\n",
       "       'RP건수_렌탈_B0M', 'RP건수_보험_B0M', 'RP건수_아파트_B0M', 'RP건수_유선방송_B0M',\n",
       "       'RP건수_전기_B0M', 'RP건수_제휴사서비스직접판매_B0M', 'RP건수_통신_B0M', 'RP건수_학습비_B0M',\n",
       "       'RP유형건수_B0M', '_1순위교통업종_버스지하철', '_1순위교통업종_없음', '_1순위교통업종_정비',\n",
       "       '_1순위교통업종_주유', '_1순위교통업종_철도버스', '_1순위교통업종_택시', '_1순위납부업종_가스/전기료',\n",
       "       '_1순위납부업종_관리비', '_1순위납부업종_납부기타', '_1순위납부업종_보험료', '_1순위납부업종_없음',\n",
       "       '_1순위납부업종_통신비', '_1순위쇼핑업종_도소매', '_1순위쇼핑업종_마트', '_1순위쇼핑업종_백화점',\n",
       "       '_1순위쇼핑업종_쇼핑기타', '_1순위쇼핑업종_슈퍼마켓', '_1순위쇼핑업종_아울렛', '_1순위쇼핑업종_없음',\n",
       "       '_1순위쇼핑업종_온라인', '_1순위쇼핑업종_편의점', '_1순위업종_교육', '_1순위업종_교통', '_1순위업종_납부',\n",
       "       '_1순위업종_사교활동', '_1순위업종_쇼핑', '_1순위업종_여유생활', '_1순위업종_요식', '_1순위업종_의료',\n",
       "       '_1순위업종_일상생활', '_1순위업종_해외', '_2순위쇼핑업종_도소매', '_2순위쇼핑업종_마트',\n",
       "       '_2순위쇼핑업종_백화점', '_2순위쇼핑업종_쇼핑기타', '_2순위쇼핑업종_슈퍼마켓', '_2순위쇼핑업종_아울렛',\n",
       "       '_2순위쇼핑업종_없음', '_2순위쇼핑업종_온라인', '_2순위쇼핑업종_편의점', '_2순위업종_교육', '_2순위업종_교통',\n",
       "       '_2순위업종_납부', '_2순위업종_사교활동', '_2순위업종_쇼핑', '_2순위업종_없음', '_2순위업종_여유생활',\n",
       "       '_2순위업종_요식', '_2순위업종_의료', '_2순위업종_일상생활', '_2순위업종_해외', '_3순위업종_교육',\n",
       "       '_3순위업종_교통', '_3순위업종_납부', '_3순위업종_사교활동', '_3순위업종_쇼핑', '_3순위업종_없음',\n",
       "       '_3순위업종_여유생활', '_3순위업종_요식', '_3순위업종_의료', '_3순위업종_일상생활', '_3순위업종_해외',\n",
       "       '거주시도명', '남녀구분코드', '연령_20', '연령_30', '연령_40', '연령_50', '연령_60', '연령_70',\n",
       "       '이용금액대', '직장시도명', 'PC1', 'PC2', 'PC3', 'target'],\n",
       "      dtype='object')"
      ]
     },
     "execution_count": 35,
     "metadata": {},
     "output_type": "execute_result"
    }
   ],
   "source": [
    "df_edited.columns"
   ]
  },
  {
   "cell_type": "code",
   "execution_count": 36,
   "id": "169bea8a-f1b6-48fa-aab4-6470ecf24d00",
   "metadata": {},
   "outputs": [
    {
     "data": {
      "text/plain": [
       "(2396319, 90)"
      ]
     },
     "execution_count": 36,
     "metadata": {},
     "output_type": "execute_result"
    }
   ],
   "source": [
    "df_edited.shape"
   ]
  },
  {
   "cell_type": "code",
   "execution_count": 37,
   "id": "2c098ad6-1206-47a0-a785-7935282cad88",
   "metadata": {},
   "outputs": [
    {
     "data": {
      "text/plain": [
       "0          2\n",
       "1          1\n",
       "2          0\n",
       "3          0\n",
       "4          1\n",
       "          ..\n",
       "2396314    1\n",
       "2396315    2\n",
       "2396316    2\n",
       "2396317    1\n",
       "2396318    0\n",
       "Name: target, Length: 2396319, dtype: int64"
      ]
     },
     "execution_count": 37,
     "metadata": {},
     "output_type": "execute_result"
    }
   ],
   "source": [
    "df_edited['target']"
   ]
  },
  {
   "cell_type": "code",
   "execution_count": 40,
   "id": "cc39f035-bbac-4cf3-a5dc-cc376325980b",
   "metadata": {},
   "outputs": [
    {
     "data": {
      "text/plain": [
       "target\n",
       "1    1181247\n",
       "2     643499\n",
       "0     571573\n",
       "Name: count, dtype: int64"
      ]
     },
     "execution_count": 40,
     "metadata": {},
     "output_type": "execute_result"
    }
   ],
   "source": [
    "df_edited['target'].value_counts()"
   ]
  },
  {
   "cell_type": "code",
   "execution_count": 38,
   "id": "eeda2c71-6a23-4c38-8cc1-83c5bb29f039",
   "metadata": {},
   "outputs": [],
   "source": [
    "df_edited.to_csv('../../data/modified/PCA_3_df.csv', index=False)"
   ]
  },
  {
   "cell_type": "code",
   "execution_count": null,
   "id": "96dc4562-a4c9-4904-8ceb-391ae775a8cd",
   "metadata": {},
   "outputs": [],
   "source": []
  }
 ],
 "metadata": {
  "kernelspec": {
   "display_name": "Python 3 (ipykernel)",
   "language": "python",
   "name": "python3"
  },
  "language_info": {
   "codemirror_mode": {
    "name": "ipython",
    "version": 3
   },
   "file_extension": ".py",
   "mimetype": "text/x-python",
   "name": "python",
   "nbconvert_exporter": "python",
   "pygments_lexer": "ipython3",
   "version": "3.11.7"
  }
 },
 "nbformat": 4,
 "nbformat_minor": 5
}
