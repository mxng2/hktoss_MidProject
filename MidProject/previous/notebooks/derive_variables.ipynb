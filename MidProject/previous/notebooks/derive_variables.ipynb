{
 "cells": [
  {
   "cell_type": "code",
   "execution_count": 93,
   "id": "750dc418-ddf5-4170-94e1-1da0ce9704bc",
   "metadata": {},
   "outputs": [
    {
     "data": {
      "text/html": [
       "<div>\n",
       "<style scoped>\n",
       "    .dataframe tbody tr th:only-of-type {\n",
       "        vertical-align: middle;\n",
       "    }\n",
       "\n",
       "    .dataframe tbody tr th {\n",
       "        vertical-align: top;\n",
       "    }\n",
       "\n",
       "    .dataframe thead th {\n",
       "        text-align: right;\n",
       "    }\n",
       "</style>\n",
       "<table border=\"1\" class=\"dataframe\">\n",
       "  <thead>\n",
       "    <tr style=\"text-align: right;\">\n",
       "      <th></th>\n",
       "      <th>index</th>\n",
       "      <th>gender</th>\n",
       "      <th>car</th>\n",
       "      <th>reality</th>\n",
       "      <th>child_num</th>\n",
       "      <th>income_total</th>\n",
       "      <th>income_type</th>\n",
       "      <th>edu_type</th>\n",
       "      <th>family_type</th>\n",
       "      <th>house_type</th>\n",
       "      <th>DAYS_BIRTH</th>\n",
       "      <th>DAYS_EMPLOYED</th>\n",
       "      <th>FLAG_MOBIL</th>\n",
       "      <th>work_phone</th>\n",
       "      <th>phone</th>\n",
       "      <th>email</th>\n",
       "      <th>occyp_type</th>\n",
       "      <th>family_size</th>\n",
       "      <th>begin_month</th>\n",
       "      <th>credit</th>\n",
       "    </tr>\n",
       "  </thead>\n",
       "  <tbody>\n",
       "    <tr>\n",
       "      <th>0</th>\n",
       "      <td>0</td>\n",
       "      <td>F</td>\n",
       "      <td>N</td>\n",
       "      <td>N</td>\n",
       "      <td>0</td>\n",
       "      <td>202500.0</td>\n",
       "      <td>Commercial associate</td>\n",
       "      <td>Higher education</td>\n",
       "      <td>Married</td>\n",
       "      <td>Municipal apartment</td>\n",
       "      <td>-13899</td>\n",
       "      <td>-4709</td>\n",
       "      <td>1</td>\n",
       "      <td>0</td>\n",
       "      <td>0</td>\n",
       "      <td>0</td>\n",
       "      <td>NaN</td>\n",
       "      <td>2.0</td>\n",
       "      <td>-6.0</td>\n",
       "      <td>1.0</td>\n",
       "    </tr>\n",
       "    <tr>\n",
       "      <th>1</th>\n",
       "      <td>1</td>\n",
       "      <td>F</td>\n",
       "      <td>N</td>\n",
       "      <td>Y</td>\n",
       "      <td>1</td>\n",
       "      <td>247500.0</td>\n",
       "      <td>Commercial associate</td>\n",
       "      <td>Secondary / secondary special</td>\n",
       "      <td>Civil marriage</td>\n",
       "      <td>House / apartment</td>\n",
       "      <td>-11380</td>\n",
       "      <td>-1540</td>\n",
       "      <td>1</td>\n",
       "      <td>0</td>\n",
       "      <td>0</td>\n",
       "      <td>1</td>\n",
       "      <td>Laborers</td>\n",
       "      <td>3.0</td>\n",
       "      <td>-5.0</td>\n",
       "      <td>1.0</td>\n",
       "    </tr>\n",
       "    <tr>\n",
       "      <th>2</th>\n",
       "      <td>2</td>\n",
       "      <td>M</td>\n",
       "      <td>Y</td>\n",
       "      <td>Y</td>\n",
       "      <td>0</td>\n",
       "      <td>450000.0</td>\n",
       "      <td>Working</td>\n",
       "      <td>Higher education</td>\n",
       "      <td>Married</td>\n",
       "      <td>House / apartment</td>\n",
       "      <td>-19087</td>\n",
       "      <td>-4434</td>\n",
       "      <td>1</td>\n",
       "      <td>0</td>\n",
       "      <td>1</td>\n",
       "      <td>0</td>\n",
       "      <td>Managers</td>\n",
       "      <td>2.0</td>\n",
       "      <td>-22.0</td>\n",
       "      <td>2.0</td>\n",
       "    </tr>\n",
       "    <tr>\n",
       "      <th>3</th>\n",
       "      <td>3</td>\n",
       "      <td>F</td>\n",
       "      <td>N</td>\n",
       "      <td>Y</td>\n",
       "      <td>0</td>\n",
       "      <td>202500.0</td>\n",
       "      <td>Commercial associate</td>\n",
       "      <td>Secondary / secondary special</td>\n",
       "      <td>Married</td>\n",
       "      <td>House / apartment</td>\n",
       "      <td>-15088</td>\n",
       "      <td>-2092</td>\n",
       "      <td>1</td>\n",
       "      <td>0</td>\n",
       "      <td>1</td>\n",
       "      <td>0</td>\n",
       "      <td>Sales staff</td>\n",
       "      <td>2.0</td>\n",
       "      <td>-37.0</td>\n",
       "      <td>0.0</td>\n",
       "    </tr>\n",
       "    <tr>\n",
       "      <th>4</th>\n",
       "      <td>4</td>\n",
       "      <td>F</td>\n",
       "      <td>Y</td>\n",
       "      <td>Y</td>\n",
       "      <td>0</td>\n",
       "      <td>157500.0</td>\n",
       "      <td>State servant</td>\n",
       "      <td>Higher education</td>\n",
       "      <td>Married</td>\n",
       "      <td>House / apartment</td>\n",
       "      <td>-15037</td>\n",
       "      <td>-2105</td>\n",
       "      <td>1</td>\n",
       "      <td>0</td>\n",
       "      <td>0</td>\n",
       "      <td>0</td>\n",
       "      <td>Managers</td>\n",
       "      <td>2.0</td>\n",
       "      <td>-26.0</td>\n",
       "      <td>2.0</td>\n",
       "    </tr>\n",
       "  </tbody>\n",
       "</table>\n",
       "</div>"
      ],
      "text/plain": [
       "   index gender car reality  child_num  income_total           income_type  \\\n",
       "0      0      F   N       N          0      202500.0  Commercial associate   \n",
       "1      1      F   N       Y          1      247500.0  Commercial associate   \n",
       "2      2      M   Y       Y          0      450000.0               Working   \n",
       "3      3      F   N       Y          0      202500.0  Commercial associate   \n",
       "4      4      F   Y       Y          0      157500.0         State servant   \n",
       "\n",
       "                        edu_type     family_type           house_type  \\\n",
       "0               Higher education         Married  Municipal apartment   \n",
       "1  Secondary / secondary special  Civil marriage    House / apartment   \n",
       "2               Higher education         Married    House / apartment   \n",
       "3  Secondary / secondary special         Married    House / apartment   \n",
       "4               Higher education         Married    House / apartment   \n",
       "\n",
       "   DAYS_BIRTH  DAYS_EMPLOYED  FLAG_MOBIL  work_phone  phone  email  \\\n",
       "0      -13899          -4709           1           0      0      0   \n",
       "1      -11380          -1540           1           0      0      1   \n",
       "2      -19087          -4434           1           0      1      0   \n",
       "3      -15088          -2092           1           0      1      0   \n",
       "4      -15037          -2105           1           0      0      0   \n",
       "\n",
       "    occyp_type  family_size  begin_month  credit  \n",
       "0          NaN          2.0         -6.0     1.0  \n",
       "1     Laborers          3.0         -5.0     1.0  \n",
       "2     Managers          2.0        -22.0     2.0  \n",
       "3  Sales staff          2.0        -37.0     0.0  \n",
       "4     Managers          2.0        -26.0     2.0  "
      ]
     },
     "execution_count": 93,
     "metadata": {},
     "output_type": "execute_result"
    }
   ],
   "source": [
    "import pandas as pd\n",
    "\n",
    "df = pd.read_csv('../data/신용카드 연체 예측 모델링 데이터.csv')\n",
    "df.head()"
   ]
  },
  {
   "cell_type": "markdown",
   "id": "c29b48a1-041f-459f-b2f7-d82ee6a5edd9",
   "metadata": {},
   "source": [
    "# 직업"
   ]
  },
  {
   "cell_type": "code",
   "execution_count": 94,
   "id": "3f51527f-1c6d-43c7-a25d-9be8076d5d30",
   "metadata": {},
   "outputs": [
    {
     "name": "stdout",
     "output_type": "stream",
     "text": [
      "<class 'pandas.core.frame.DataFrame'>\n",
      "RangeIndex: 26457 entries, 0 to 26456\n",
      "Data columns (total 20 columns):\n",
      " #   Column         Non-Null Count  Dtype  \n",
      "---  ------         --------------  -----  \n",
      " 0   index          26457 non-null  int64  \n",
      " 1   gender         26457 non-null  object \n",
      " 2   car            26457 non-null  object \n",
      " 3   reality        26457 non-null  object \n",
      " 4   child_num      26457 non-null  int64  \n",
      " 5   income_total   26457 non-null  float64\n",
      " 6   income_type    26457 non-null  object \n",
      " 7   edu_type       26457 non-null  object \n",
      " 8   family_type    26457 non-null  object \n",
      " 9   house_type     26457 non-null  object \n",
      " 10  DAYS_BIRTH     26457 non-null  int64  \n",
      " 11  DAYS_EMPLOYED  26457 non-null  int64  \n",
      " 12  FLAG_MOBIL     26457 non-null  int64  \n",
      " 13  work_phone     26457 non-null  int64  \n",
      " 14  phone          26457 non-null  int64  \n",
      " 15  email          26457 non-null  int64  \n",
      " 16  occyp_type     26457 non-null  object \n",
      " 17  family_size    26457 non-null  float64\n",
      " 18  begin_month    26457 non-null  float64\n",
      " 19  credit         26457 non-null  float64\n",
      "dtypes: float64(4), int64(8), object(8)\n",
      "memory usage: 4.0+ MB\n"
     ]
    }
   ],
   "source": [
    "# 직업 결측치 처리\n",
    "df.loc[df['occyp_type'].isnull(), 'occyp_type'] = df['income_type']\n",
    "df.info()"
   ]
  },
  {
   "cell_type": "markdown",
   "id": "745abcbc-1ad8-4c01-8bb0-b7e131d140fe",
   "metadata": {},
   "source": [
    "### 직군 별 수입 안정성\n",
    "* commercial associate (영업사원) : 약간의 기본급에 인센티브 형식\n",
    "* working (일반 직장인) : 정규직은 안정적, 비정규직은 아님\n",
    "* state servant (공무원) : 매우 안정적, 경기 불황에 영향 받지 않음, 추후 연금\n",
    "* pensioner (연금 수령자) : 매우 안정적, 이전의 소득과 제도에 따라 변동 가능\n",
    "* student (학생) : 안정적인 수입을 기대하기 어려움"
   ]
  },
  {
   "cell_type": "code",
   "execution_count": 95,
   "id": "fc381073-019c-4bb6-9d6c-73db4685a12b",
   "metadata": {},
   "outputs": [
    {
     "data": {
      "text/plain": [
       "array(['Commercial associate', 'Laborers', 'Managers', 'Sales staff',\n",
       "       'High skill tech staff', 'Core staff', 'Drivers', 'Medicine staff',\n",
       "       'Accountants', 'Pensioner', 'Working', 'Realty agents',\n",
       "       'State servant', 'Security staff', 'Cleaning staff',\n",
       "       'Private service staff', 'Cooking staff', 'Secretaries',\n",
       "       'HR staff', 'IT staff', 'Low-skill Laborers',\n",
       "       'Waiters/barmen staff', 'Student'], dtype=object)"
      ]
     },
     "execution_count": 95,
     "metadata": {},
     "output_type": "execute_result"
    }
   ],
   "source": [
    "# 직업 종류\n",
    "df['occyp_type'].unique()"
   ]
  },
  {
   "cell_type": "code",
   "execution_count": 96,
   "id": "20b9e416-63c7-4640-a39a-781ee3550cd4",
   "metadata": {},
   "outputs": [
    {
     "data": {
      "text/plain": [
       "count        23.000000\n",
       "mean     184547.136762\n",
       "std       34286.094676\n",
       "min      135000.000000\n",
       "25%      161769.537745\n",
       "50%      180790.129542\n",
       "75%      197394.625113\n",
       "max      278735.249654\n",
       "Name: income_total, dtype: float64"
      ]
     },
     "execution_count": 96,
     "metadata": {},
     "output_type": "execute_result"
    }
   ],
   "source": [
    "# 직업 별 평균연봉\n",
    "mean_income = df.groupby('occyp_type')['income_total'].mean()\n",
    "mean_income.describe()"
   ]
  },
  {
   "cell_type": "code",
   "execution_count": 97,
   "id": "d88d3cc2-ea28-4755-ab9b-bfc2e07bd729",
   "metadata": {},
   "outputs": [
    {
     "data": {
      "image/png": "[encoded data removed]",
      "text/plain": [
       "<Figure size 640x480 with 1 Axes>"
      ]
     },
     "metadata": {},
     "output_type": "display_data"
    }
   ],
   "source": [
    "import matplotlib.pyplot as plt\n",
    "\n",
    "sorted_income = mean_income.sort_values()\n",
    "\n",
    "idx = list(range(len(sorted_income)))\n",
    "\n",
    "plt.scatter(idx, sorted_income)\n",
    "plt.xlabel('Index after sorting')\n",
    "plt.ylabel('Income Total')\n",
    "plt.title('Scatter Plot of Sorted Mean Income')\n",
    "plt.show()"
   ]
  },
  {
   "cell_type": "code",
   "execution_count": 98,
   "id": "18ea2d6e-7a7d-4150-8b9e-eb73621ccb4d",
   "metadata": {},
   "outputs": [],
   "source": [
    "stab_one = ['State servant', 'Pensioner', 'Managers', 'High skill tech staff', 'Core staff', \n",
    "           'Medicine staff', 'Accountants', 'HR staff', 'IT staff']\n",
    "stab_two = ['Sales staff', 'Drivers', 'Realty agents', 'Security staff', 'Private service staff',\n",
    "           'Cooking staff', 'Secretaries', 'Commercial associate', 'Working']\n",
    "stab_three = ['Laborers', 'Student', 'Cleaning staff', 'Low-skill Laborers', 'Waiters/barmen staff']"
   ]
  },
  {
   "cell_type": "code",
   "execution_count": 99,
   "id": "1450e584-d727-4505-a31a-5b42913ced3a",
   "metadata": {},
   "outputs": [],
   "source": [
    "def income_stability(occyp):\n",
    "    if occyp in(stab_one):\n",
    "        return 1\n",
    "    elif occyp in(stab_two):\n",
    "        return 2\n",
    "    elif occyp in(stab_three):\n",
    "        return 3"
   ]
  },
  {
   "cell_type": "code",
   "execution_count": 100,
   "id": "94596cbf-42de-4e62-8cd7-14cb8202e718",
   "metadata": {},
   "outputs": [],
   "source": [
    "df['income_stability'] = [ income_stability(stab) for stab in df['occyp_type'] ]"
   ]
  },
  {
   "cell_type": "code",
   "execution_count": 101,
   "id": "01f466e7-c971-4e10-ac4c-be0a3e07ae74",
   "metadata": {},
   "outputs": [],
   "source": [
    "df['age'] = [ int(-days / 365) for days in df['DAYS_BIRTH'] ]"
   ]
  },
  {
   "cell_type": "code",
   "execution_count": 102,
   "id": "3552b114-4e13-47d0-a065-17650c0e5e1d",
   "metadata": {},
   "outputs": [],
   "source": [
    "df['emp_years'] = [ int(-days / 365) for days in df['DAYS_EMPLOYED'] ]"
   ]
  },
  {
   "cell_type": "code",
   "execution_count": 103,
   "id": "6f67af1e-d8e5-4872-bc56-66aa57f77bc1",
   "metadata": {},
   "outputs": [],
   "source": [
    "df['income_per_capita'] = df.apply(lambda row : row['income_total'] / row['family_size'], axis=1)"
   ]
  },
  {
   "cell_type": "code",
   "execution_count": 104,
   "id": "374730eb-e5b0-405e-8910-797c449be58a",
   "metadata": {},
   "outputs": [],
   "source": [
    "df['hold_period'] = df.apply(lambda row : - row['begin_month'], axis=1)"
   ]
  },
  {
   "cell_type": "code",
   "execution_count": 105,
   "id": "c4769d58-a800-4de1-9029-7428c62082fc",
   "metadata": {},
   "outputs": [],
   "source": [
    "def hasAsset(c):\n",
    "    if c == 'Y':\n",
    "        return 1\n",
    "    else:\n",
    "        return 0"
   ]
  },
  {
   "cell_type": "code",
   "execution_count": 106,
   "id": "235862ca-928a-4af7-9879-72d8f12da97b",
   "metadata": {},
   "outputs": [],
   "source": [
    "df['car'] = df['car'].apply(lambda x : hasAsset(x))\n",
    "df['reality'] = df['reality'].apply(lambda x : hasAsset(x))"
   ]
  },
  {
   "cell_type": "code",
   "execution_count": 107,
   "id": "62f6eb1c-1756-4011-b2fa-40fc57607185",
   "metadata": {},
   "outputs": [],
   "source": [
    "df['asset'] = df.apply(lambda row : row['car'] + row['reality'], axis=1)"
   ]
  },
  {
   "cell_type": "code",
   "execution_count": 108,
   "id": "9d651d64-fbe6-4849-85d6-ed147a2a2873",
   "metadata": {},
   "outputs": [],
   "source": [
    "df['age_group'] = [ (age // 10) * 10 for age in df['age'] ]"
   ]
  },
  {
   "cell_type": "code",
   "execution_count": 109,
   "id": "3abc151d-09b5-422c-8aad-6450a47d358e",
   "metadata": {},
   "outputs": [
    {
     "data": {
      "text/plain": [
       "Index(['index', 'gender', 'car', 'reality', 'child_num', 'income_total',\n",
       "       'income_type', 'edu_type', 'family_type', 'house_type', 'DAYS_BIRTH',\n",
       "       'DAYS_EMPLOYED', 'FLAG_MOBIL', 'work_phone', 'phone', 'email',\n",
       "       'occyp_type', 'family_size', 'begin_month', 'credit',\n",
       "       'income_stability', 'age', 'emp_years', 'income_per_capita',\n",
       "       'hold_period', 'asset', 'age_group'],\n",
       "      dtype='object')"
      ]
     },
     "execution_count": 109,
     "metadata": {},
     "output_type": "execute_result"
    }
   ],
   "source": [
    "df.columns"
   ]
  },
  {
   "cell_type": "code",
   "execution_count": 110,
   "id": "67c2e995-8da9-4deb-b42f-78a397e213a8",
   "metadata": {},
   "outputs": [
    {
     "data": {
      "text/html": [
       "<div>\n",
       "<style scoped>\n",
       "    .dataframe tbody tr th:only-of-type {\n",
       "        vertical-align: middle;\n",
       "    }\n",
       "\n",
       "    .dataframe tbody tr th {\n",
       "        vertical-align: top;\n",
       "    }\n",
       "\n",
       "    .dataframe thead th {\n",
       "        text-align: right;\n",
       "    }\n",
       "</style>\n",
       "<table border=\"1\" class=\"dataframe\">\n",
       "  <thead>\n",
       "    <tr style=\"text-align: right;\">\n",
       "      <th></th>\n",
       "      <th>gender</th>\n",
       "      <th>age_group</th>\n",
       "      <th>child_num</th>\n",
       "      <th>income_total</th>\n",
       "      <th>asset</th>\n",
       "      <th>edu_type</th>\n",
       "      <th>house_type</th>\n",
       "      <th>occyp_type</th>\n",
       "      <th>income_stability</th>\n",
       "      <th>email</th>\n",
       "      <th>work_phone</th>\n",
       "      <th>family_type</th>\n",
       "      <th>family_size</th>\n",
       "      <th>emp_years</th>\n",
       "      <th>income_per_capita</th>\n",
       "      <th>hold_period</th>\n",
       "      <th>credit</th>\n",
       "    </tr>\n",
       "  </thead>\n",
       "  <tbody>\n",
       "    <tr>\n",
       "      <th>0</th>\n",
       "      <td>F</td>\n",
       "      <td>30</td>\n",
       "      <td>0</td>\n",
       "      <td>202500.0</td>\n",
       "      <td>0</td>\n",
       "      <td>Higher education</td>\n",
       "      <td>Municipal apartment</td>\n",
       "      <td>Commercial associate</td>\n",
       "      <td>2</td>\n",
       "      <td>0</td>\n",
       "      <td>0</td>\n",
       "      <td>Married</td>\n",
       "      <td>2.0</td>\n",
       "      <td>12</td>\n",
       "      <td>101250.0</td>\n",
       "      <td>6.0</td>\n",
       "      <td>1.0</td>\n",
       "    </tr>\n",
       "    <tr>\n",
       "      <th>1</th>\n",
       "      <td>F</td>\n",
       "      <td>30</td>\n",
       "      <td>1</td>\n",
       "      <td>247500.0</td>\n",
       "      <td>1</td>\n",
       "      <td>Secondary / secondary special</td>\n",
       "      <td>House / apartment</td>\n",
       "      <td>Laborers</td>\n",
       "      <td>3</td>\n",
       "      <td>1</td>\n",
       "      <td>0</td>\n",
       "      <td>Civil marriage</td>\n",
       "      <td>3.0</td>\n",
       "      <td>4</td>\n",
       "      <td>82500.0</td>\n",
       "      <td>5.0</td>\n",
       "      <td>1.0</td>\n",
       "    </tr>\n",
       "    <tr>\n",
       "      <th>2</th>\n",
       "      <td>M</td>\n",
       "      <td>50</td>\n",
       "      <td>0</td>\n",
       "      <td>450000.0</td>\n",
       "      <td>2</td>\n",
       "      <td>Higher education</td>\n",
       "      <td>House / apartment</td>\n",
       "      <td>Managers</td>\n",
       "      <td>1</td>\n",
       "      <td>0</td>\n",
       "      <td>0</td>\n",
       "      <td>Married</td>\n",
       "      <td>2.0</td>\n",
       "      <td>12</td>\n",
       "      <td>225000.0</td>\n",
       "      <td>22.0</td>\n",
       "      <td>2.0</td>\n",
       "    </tr>\n",
       "    <tr>\n",
       "      <th>3</th>\n",
       "      <td>F</td>\n",
       "      <td>40</td>\n",
       "      <td>0</td>\n",
       "      <td>202500.0</td>\n",
       "      <td>1</td>\n",
       "      <td>Secondary / secondary special</td>\n",
       "      <td>House / apartment</td>\n",
       "      <td>Sales staff</td>\n",
       "      <td>2</td>\n",
       "      <td>0</td>\n",
       "      <td>0</td>\n",
       "      <td>Married</td>\n",
       "      <td>2.0</td>\n",
       "      <td>5</td>\n",
       "      <td>101250.0</td>\n",
       "      <td>37.0</td>\n",
       "      <td>0.0</td>\n",
       "    </tr>\n",
       "    <tr>\n",
       "      <th>4</th>\n",
       "      <td>F</td>\n",
       "      <td>40</td>\n",
       "      <td>0</td>\n",
       "      <td>157500.0</td>\n",
       "      <td>2</td>\n",
       "      <td>Higher education</td>\n",
       "      <td>House / apartment</td>\n",
       "      <td>Managers</td>\n",
       "      <td>1</td>\n",
       "      <td>0</td>\n",
       "      <td>0</td>\n",
       "      <td>Married</td>\n",
       "      <td>2.0</td>\n",
       "      <td>5</td>\n",
       "      <td>78750.0</td>\n",
       "      <td>26.0</td>\n",
       "      <td>2.0</td>\n",
       "    </tr>\n",
       "  </tbody>\n",
       "</table>\n",
       "</div>"
      ],
      "text/plain": [
       "  gender  age_group  child_num  income_total  asset  \\\n",
       "0      F         30          0      202500.0      0   \n",
       "1      F         30          1      247500.0      1   \n",
       "2      M         50          0      450000.0      2   \n",
       "3      F         40          0      202500.0      1   \n",
       "4      F         40          0      157500.0      2   \n",
       "\n",
       "                        edu_type           house_type            occyp_type  \\\n",
       "0               Higher education  Municipal apartment  Commercial associate   \n",
       "1  Secondary / secondary special    House / apartment              Laborers   \n",
       "2               Higher education    House / apartment              Managers   \n",
       "3  Secondary / secondary special    House / apartment           Sales staff   \n",
       "4               Higher education    House / apartment              Managers   \n",
       "\n",
       "   income_stability  email  work_phone     family_type  family_size  \\\n",
       "0                 2      0           0         Married          2.0   \n",
       "1                 3      1           0  Civil marriage          3.0   \n",
       "2                 1      0           0         Married          2.0   \n",
       "3                 2      0           0         Married          2.0   \n",
       "4                 1      0           0         Married          2.0   \n",
       "\n",
       "   emp_years  income_per_capita  hold_period  credit  \n",
       "0         12           101250.0          6.0     1.0  \n",
       "1          4            82500.0          5.0     1.0  \n",
       "2         12           225000.0         22.0     2.0  \n",
       "3          5           101250.0         37.0     0.0  \n",
       "4          5            78750.0         26.0     2.0  "
      ]
     },
     "execution_count": 110,
     "metadata": {},
     "output_type": "execute_result"
    }
   ],
   "source": [
    "df_filtered = df[['gender', 'age_group','child_num', 'income_total','asset',\n",
    "       'edu_type',  'house_type',\n",
    "       'occyp_type', 'income_stability', 'email', 'work_phone',\n",
    "         'family_type','family_size', \n",
    "        'emp_years', 'income_per_capita',\n",
    "       'hold_period',   'credit']]\n",
    "df_filtered.head()"
   ]
  },
  {
   "cell_type": "code",
   "execution_count": 111,
   "id": "50f37cdb-e349-44c1-b118-5fc0ed1687e6",
   "metadata": {},
   "outputs": [],
   "source": [
    "df_filtered.to_csv('../data/derived_variables.csv')"
   ]
  },
  {
   "cell_type": "code",
   "execution_count": null,
   "id": "74d672fc-e7ba-4bc0-90b4-8a10e85e19d8",
   "metadata": {},
   "outputs": [],
   "source": []
  }
 ],
 "metadata": {
  "kernelspec": {
   "display_name": "Python 3 (ipykernel)",
   "language": "python",
   "name": "python3"
  },
  "language_info": {
   "codemirror_mode": {
    "name": "ipython",
    "version": 3
   },
   "file_extension": ".py",
   "mimetype": "text/x-python",
   "name": "python",
   "nbconvert_exporter": "python",
   "pygments_lexer": "ipython3",
   "version": "3.8.18"
  }
 },
 "nbformat": 4,
 "nbformat_minor": 5
}
